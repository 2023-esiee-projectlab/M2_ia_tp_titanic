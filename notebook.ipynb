{
 "cells": [
  {
   "cell_type": "code",
   "execution_count": null,
   "id": "01003b6c-12bf-4d28-a8f1-a20443dea957",
   "metadata": {},
   "outputs": [],
   "source": [
    "# Connaitre le path du fichier\n",
    "!pwd"
   ]
  },
  {
   "cell_type": "code",
   "execution_count": null,
   "id": "87e1b574-dee7-4a3d-9c4b-de1f4c042c37",
   "metadata": {},
   "outputs": [],
   "source": [
    "# Importation de la librairie Pandas\n",
    "import pandas as pd"
   ]
  },
  {
   "cell_type": "code",
   "execution_count": null,
   "id": "efba12ac-965b-42d5-b4bd-09bbadb95870",
   "metadata": {},
   "outputs": [],
   "source": [
    "# Importation des données\n",
    "df = pd.read_csv('datas/train.csv')"
   ]
  },
  {
   "cell_type": "code",
   "execution_count": null,
   "id": "a7c362b2-9cdb-4fb1-bbf3-51aeb10673e3",
   "metadata": {},
   "outputs": [],
   "source": [
    "# Afficher le tableau de données\n",
    "df.head()"
   ]
  },
  {
   "cell_type": "code",
   "execution_count": null,
   "id": "cedcb848-98c6-4d27-9ba9-e7a9ada85a31",
   "metadata": {},
   "outputs": [],
   "source": [
    "# Afficher les types de données du tableau\n",
    "df.dtypes"
   ]
  },
  {
   "cell_type": "code",
   "execution_count": null,
   "id": "3d2bfbab-71be-4f5b-8646-f0a6ed387258",
   "metadata": {},
   "outputs": [],
   "source": [
    "df[\"Fare\"] = pd.to_numeric(df[\"Fare\"])\n",
    "df.dtypes"
   ]
  },
  {
   "cell_type": "code",
   "execution_count": null,
   "id": "87928716-b50d-4680-9747-ad8a2f9ab67b",
   "metadata": {},
   "outputs": [],
   "source": [
    "# Nettoyage des données\n",
    "df1 = df.drop(['Name','Ticket','Cabin','PassengerId','Embarked'],axis = 1)\n",
    "# df.drop([\"Name\",\"Sex\",\"Ticket\",\"Cabin\",\"Embarked\"], axis=1, inplace=True)"
   ]
  },
  {
   "cell_type": "code",
   "execution_count": null,
   "id": "a1f27259-a9ff-49d6-8df5-0916da3c19ce",
   "metadata": {},
   "outputs": [],
   "source": [
    "df1['Sex'] = df['Sex'].map({'male': 1, 'female': 0})\n",
    "df1"
   ]
  },
  {
   "cell_type": "code",
   "execution_count": null,
   "id": "04b4c3c6-c6c9-4f7b-a45a-89021393f90d",
   "metadata": {},
   "outputs": [],
   "source": [
    "df2=df1.dropna()\n",
    "df2"
   ]
  },
  {
   "cell_type": "code",
   "execution_count": null,
   "id": "09aecde6-82b6-4135-b6de-d7c5b808190c",
   "metadata": {},
   "outputs": [],
   "source": [
    "df2.dtypes"
   ]
  },
  {
   "cell_type": "code",
   "execution_count": null,
   "id": "b060f86c-edfd-40e7-a642-a33dd7108743",
   "metadata": {},
   "outputs": [],
   "source": [
    "# Génération du model\n",
    "from sklearn.model_selection import train_test_split"
   ]
  },
  {
   "cell_type": "code",
   "execution_count": null,
   "id": "fd63c239-0e0c-4d43-ac45-f2397b612929",
   "metadata": {},
   "outputs": [],
   "source": [
    "y = df2.Survived\n",
    "x = df2.drop(['Survived'], axis = 1)\n",
    "\n",
    "x_train,x_test, y_train, y_test = train_test_split(x,y,test_size = .2, random_state = 42)"
   ]
  },
  {
   "cell_type": "code",
   "execution_count": null,
   "id": "3305038c-b362-4f9c-9ee5-dfbed4bec831",
   "metadata": {},
   "outputs": [],
   "source": [
    "print (x_train.shape,x_test.shape)\n",
    "print (df2.shape)"
   ]
  },
  {
   "cell_type": "code",
   "execution_count": null,
   "id": "640cacf3-320e-4a86-b2c5-2a92eb37661a",
   "metadata": {},
   "outputs": [],
   "source": [
    "print (y_train.sample(10))"
   ]
  },
  {
   "cell_type": "code",
   "execution_count": null,
   "id": "3fe3dda3-6537-42a7-80eb-21a6caa49cf3",
   "metadata": {},
   "outputs": [],
   "source": [
    "# Création d'un premier modèle\n",
    "from sklearn.ensemble import RandomForestClassifier"
   ]
  },
  {
   "cell_type": "code",
   "execution_count": null,
   "id": "a6a326ab-f387-4e2a-b315-14f6d2d1386b",
   "metadata": {},
   "outputs": [],
   "source": [
    "# n_estimators = nombre d'arbres\n",
    "# random_state = le hazard à 23\n",
    "# max_features = le nombre de colonne sélectionner par itération au hazard\n",
    "\n",
    "rf = RandomForestClassifier(n_estimators = 100, random_state = 23, max_features = 2)"
   ]
  },
  {
   "cell_type": "code",
   "execution_count": null,
   "id": "b07e7e20-e57d-48de-8824-2ece664fbd04",
   "metadata": {},
   "outputs": [],
   "source": [
    "rf.fit(X = x_train, y = y_train)"
   ]
  },
  {
   "cell_type": "code",
   "execution_count": null,
   "id": "0fa73b80-b3a7-43fb-897c-0cbfbf018e93",
   "metadata": {},
   "outputs": [],
   "source": []
  }
 ],
 "metadata": {
  "kernelspec": {
   "display_name": "Python 3 (ipykernel)",
   "language": "python",
   "name": "python3"
  },
  "language_info": {
   "codemirror_mode": {
    "name": "ipython",
    "version": 3
   },
   "file_extension": ".py",
   "mimetype": "text/x-python",
   "name": "python",
   "nbconvert_exporter": "python",
   "pygments_lexer": "ipython3",
   "version": "3.10.7"
  }
 },
 "nbformat": 4,
 "nbformat_minor": 5
}
