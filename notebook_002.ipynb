{
 "cells": [
  {
   "cell_type": "code",
   "execution_count": null,
   "id": "029d0774-629f-4583-8db4-fc53ffdb88f5",
   "metadata": {},
   "outputs": [],
   "source": [
    "# Connaitre le path du fichier\n",
    "!pwd"
   ]
  },
  {
   "cell_type": "code",
   "execution_count": null,
   "id": "d0826bbd-2344-4710-92fa-c7b163089a37",
   "metadata": {},
   "outputs": [],
   "source": [
    "# Importation de la librairie Pandas\n",
    "import pandas as pd"
   ]
  },
  {
   "cell_type": "code",
   "execution_count": null,
   "id": "953fd5d7-f33b-4af4-8b92-2c0f01c5ccc7",
   "metadata": {},
   "outputs": [],
   "source": [
    "# Importation des données\n",
    "df = pd.read_csv('datas/train.csv')"
   ]
  },
  {
   "cell_type": "code",
   "execution_count": null,
   "id": "2c72bfb1-b11d-453e-97d6-b76c19af40b5",
   "metadata": {},
   "outputs": [],
   "source": [
    "# Afficher le tableau de données\n",
    "df.head()"
   ]
  },
  {
   "cell_type": "code",
   "execution_count": null,
   "id": "a11d8629-8c3c-420d-94b8-23def59d4261",
   "metadata": {},
   "outputs": [],
   "source": [
    "# Vérifier les valeur null\n",
    "df.isNull()"
   ]
  },
  {
   "cell_type": "code",
   "execution_count": null,
   "id": "1c01a8c0-f62d-4651-b8bd-d2b2d0afd6dc",
   "metadata": {},
   "outputs": [],
   "source": [
    "df.[\"Age\"].dropna(inplace=True)"
   ]
  },
  {
   "cell_type": "code",
   "execution_count": null,
   "id": "0bc70474-58eb-4519-932d-0d6052e585c8",
   "metadata": {},
   "outputs": [],
   "source": [
    "print(df.types, df.isnull().sum())"
   ]
  }
 ],
 "metadata": {
  "kernelspec": {
   "display_name": "Python 3 (ipykernel)",
   "language": "python",
   "name": "python3"
  },
  "language_info": {
   "codemirror_mode": {
    "name": "ipython",
    "version": 3
   },
   "file_extension": ".py",
   "mimetype": "text/x-python",
   "name": "python",
   "nbconvert_exporter": "python",
   "pygments_lexer": "ipython3",
   "version": "3.10.7"
  }
 },
 "nbformat": 4,
 "nbformat_minor": 5
}
